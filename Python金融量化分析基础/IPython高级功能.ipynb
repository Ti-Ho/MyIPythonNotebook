{
 "cells": [
  {
   "cell_type": "markdown",
   "metadata": {},
   "source": [
    "## Ipython高级功能\n",
    "### 1 TAB键动完成\n",
    "### 2 内省 名空间搜索"
   ]
  },
  {
   "cell_type": "code",
   "execution_count": 2,
   "metadata": {},
   "outputs": [],
   "source": [
    "a = list()\n",
    "a.*pp*?"
   ]
  },
  {
   "cell_type": "code",
   "execution_count": 3,
   "metadata": {},
   "outputs": [],
   "source": [
    "a.__*__?"
   ]
  },
  {
   "cell_type": "code",
   "execution_count": 4,
   "metadata": {},
   "outputs": [],
   "source": [
    "def func(a):\n",
    "    print(a)\n",
    "\n",
    "func?"
   ]
  },
  {
   "cell_type": "code",
   "execution_count": 5,
   "metadata": {},
   "outputs": [],
   "source": [
    "func??"
   ]
  },
  {
   "cell_type": "markdown",
   "metadata": {},
   "source": [
    "### 3 执行系统命令 `!`"
   ]
  },
  {
   "cell_type": "code",
   "execution_count": 1,
   "metadata": {},
   "outputs": [
    {
     "data": {
      "text/plain": [
       "'/home/tianhao/LearningFile'"
      ]
     },
     "execution_count": 1,
     "metadata": {},
     "output_type": "execute_result"
    }
   ],
   "source": [
    "pwd"
   ]
  },
  {
   "cell_type": "code",
   "execution_count": 1,
   "metadata": {},
   "outputs": [
    {
     "name": "stdout",
     "output_type": "stream",
     "text": [
      "Package                           Version\n",
      "--------------------------------- -------------------\n",
      "absl-py                           0.13.0\n",
      "aniso8601                         9.0.1\n",
      "argon2-cffi                       20.1.0\n",
      "astunparse                        1.6.3\n",
      "async-generator                   1.10\n",
      "attrs                             21.2.0\n",
      "backcall                          0.2.0\n",
      "bleach                            3.3.1\n",
      "cached-property                   1.5.2\n",
      "cachetools                        4.2.2\n",
      "certifi                           2021.5.30\n",
      "cffi                              1.14.6\n",
      "chardet                           3.0.4\n",
      "charset-normalizer                2.0.3\n",
      "click                             8.0.1\n",
      "colorama                          0.4.4\n",
      "cryptography                      3.4.7\n",
      "cvxpy                             1.1.14\n",
      "cx-Oracle                         8.2.1\n",
      "cycler                            0.10.0\n",
      "dataclasses                       0.8\n",
      "decorator                         5.0.9\n",
      "defusedxml                        0.7.1\n",
      "docutils                          0.17.1\n",
      "ecos                              2.0.7.post1\n",
      "elasticsearch                     6.3.0\n",
      "elasticsearch-dsl                 6.3.0\n",
      "entrypoints                       0.3\n",
      "Flask                             2.0.1\n",
      "Flask-Cors                        3.0.10\n",
      "flask-restplus                    0.13.0\n",
      "flatbuffers                       1.12\n",
      "gast                              0.4.0\n",
      "google-auth                       1.34.0\n",
      "google-auth-oauthlib              0.4.4\n",
      "google-pasta                      0.2.0\n",
      "greenlet                          1.1.0\n",
      "grpcio                            1.34.1\n",
      "h5py                              3.1.0\n",
      "idna                              2.10\n",
      "importlib-metadata                4.6.1\n",
      "ipykernel                         5.5.5\n",
      "ipython                           7.13.0\n",
      "ipython-genutils                  0.2.0\n",
      "itsdangerous                      2.0.1\n",
      "jedi                              0.18.0\n",
      "jeepney                           0.7.1\n",
      "Jinja2                            3.0.1\n",
      "joblib                            1.0.1\n",
      "jsonschema                        3.2.0\n",
      "jupyter-client                    6.2.0\n",
      "jupyter-contrib-core              0.3.3\n",
      "jupyter-contrib-nbextensions      0.5.1\n",
      "jupyter-core                      4.7.1\n",
      "jupyter-highlight-selected-word   0.2.0\n",
      "jupyter-latex-envs                1.4.6\n",
      "jupyter-nbextensions-configurator 0.4.1\n",
      "jupyterlab-pygments               0.1.2\n",
      "kd-backtest                       0.2.7\n",
      "kd-dbsync                         0.1.10\n",
      "kd-factor-analysis                0.0.4\n",
      "kddb                              0.1.24\n",
      "kdquant-toolkit                   0.4.1\n",
      "Keras                             2.4.3\n",
      "keras-nightly                     2.5.0.dev2021032900\n",
      "Keras-Preprocessing               1.1.2\n",
      "keyring                           23.0.1\n",
      "kiwisolver                        1.3.1\n",
      "lxml                              4.6.3\n",
      "Markdown                          3.3.4\n",
      "MarkupSafe                        2.0.1\n",
      "matplotlib                        3.3.4\n",
      "mistune                           0.8.4\n",
      "monitor-python                    0.1.7\n",
      "nbclient                          0.5.3\n",
      "nbconvert                         6.0.7\n",
      "nbformat                          5.1.3\n",
      "nest-asyncio                      1.5.1\n",
      "notebook                          6.4.0\n",
      "numpy                             1.19.5\n",
      "oauthlib                          3.1.1\n",
      "opt-einsum                        3.3.0\n",
      "osqp                              0.6.2.post0\n",
      "packaging                         21.0\n",
      "pandas                            0.25.3\n",
      "pandasql                          0.7.3\n",
      "pandocfilters                     1.4.3\n",
      "parso                             0.8.2\n",
      "patsy                             0.5.1\n",
      "pexpect                           4.8.0\n",
      "pickleshare                       0.7.5\n",
      "Pillow                            8.3.1\n",
      "pip                               21.1.3\n",
      "pkginfo                           1.7.1\n",
      "prometheus-client                 0.11.0\n",
      "prompt-toolkit                    3.0.19\n",
      "protobuf                          3.17.3\n",
      "psutil                            5.7.0\n",
      "psycopg2-binary                   2.9.1\n",
      "ptyprocess                        0.7.0\n",
      "pyarrow                           5.0.0\n",
      "pyasn1                            0.4.8\n",
      "pyasn1-modules                    0.2.8\n",
      "pycparser                         2.20\n",
      "Pygments                          2.9.0\n",
      "pymongo                           3.12.0\n",
      "PyMySQL                           1.0.2\n",
      "pyodbc                            4.0.31\n",
      "pyparsing                         2.4.7\n",
      "pyrsistent                        0.18.0\n",
      "python-dateutil                   2.8.2\n",
      "pytz                              2021.1\n",
      "PyYAML                            5.4.1\n",
      "pyzmq                             22.1.0\n",
      "qdldl                             0.1.5.post0\n",
      "qPython                           2.0.0\n",
      "qsdata                            0.2.12\n",
      "readme-renderer                   29.0\n",
      "redis                             3.5.3\n",
      "requests                          2.25.0\n",
      "requests-oauthlib                 1.3.0\n",
      "requests-toolbelt                 0.9.1\n",
      "rfc3986                           1.5.0\n",
      "rsa                               4.7.2\n",
      "ruamel.yaml                       0.17.10\n",
      "ruamel.yaml.clib                  0.2.6\n",
      "scikit-learn                      0.24.2\n",
      "scipy                             1.5.4\n",
      "scs                               2.1.4\n",
      "SecretStorage                     3.3.1\n",
      "Send2Trash                        1.7.1\n",
      "setuptools                        57.0.0\n",
      "six                               1.15.0\n",
      "SQLAlchemy                        1.3.4\n",
      "statsmodels                       0.12.1\n",
      "tensorboard                       2.5.0\n",
      "tensorboard-data-server           0.6.1\n",
      "tensorboard-plugin-wit            1.8.0\n",
      "tensorflow-estimator              2.5.0\n",
      "tensorflow-gpu                    2.5.0\n",
      "termcolor                         1.1.0\n",
      "terminado                         0.10.1\n",
      "testpath                          0.5.0\n",
      "threadpoolctl                     2.2.0\n",
      "tornado                           6.1\n",
      "tqdm                              4.62.0\n",
      "traitlets                         4.3.3\n",
      "twine                             3.4.2\n",
      "typing-extensions                 3.7.4.3\n",
      "urllib3                           1.26.6\n",
      "wcwidth                           0.2.5\n",
      "webencodings                      0.5.1\n",
      "Werkzeug                          2.0.1\n",
      "wheel                             0.36.2\n",
      "wrapt                             1.12.1\n",
      "zipp                              3.5.0\n",
      "\u001b[33mWARNING: You are using pip version 21.1.3; however, version 21.2.2 is available.\n",
      "You should consider upgrading via the '/home/tianhao/env4tiho_py36/bin/python3 -m pip install --upgrade pip' command.\u001b[0m\n",
      "Note: you may need to restart the kernel to use updated packages.\n"
     ]
    }
   ],
   "source": [
    "pip list"
   ]
  },
  {
   "cell_type": "code",
   "execution_count": 3,
   "metadata": {
    "scrolled": true
   },
   "outputs": [
    {
     "name": "stdout",
     "output_type": "stream",
     "text": [
      "em1: flags=4099<UP,BROADCAST,MULTICAST>  mtu 1500\r\n",
      "        ether 34:48:ed:f9:c5:e8  txqueuelen 1000  (Ethernet)\r\n",
      "        RX packets 0  bytes 0 (0.0 B)\r\n",
      "        RX errors 0  dropped 0  overruns 0  frame 0\r\n",
      "        TX packets 0  bytes 0 (0.0 B)\r\n",
      "        TX errors 0  dropped 0 overruns 0  carrier 0  collisions 0\r\n",
      "        device interrupt 124  \r\n",
      "\r\n",
      "em2: flags=4099<UP,BROADCAST,MULTICAST>  mtu 1500\r\n",
      "        ether 34:48:ed:f9:c5:e9  txqueuelen 1000  (Ethernet)\r\n",
      "        RX packets 0  bytes 0 (0.0 B)\r\n",
      "        RX errors 0  dropped 0  overruns 0  frame 0\r\n",
      "        TX packets 0  bytes 0 (0.0 B)\r\n",
      "        TX errors 0  dropped 0 overruns 0  carrier 0  collisions 0\r\n",
      "        device interrupt 126  \r\n",
      "\r\n",
      "em3: flags=4099<UP,BROADCAST,MULTICAST>  mtu 1500\r\n",
      "        ether 34:48:ed:f9:c5:ea  txqueuelen 1000  (Ethernet)\r\n",
      "        RX packets 0  bytes 0 (0.0 B)\r\n",
      "        RX errors 0  dropped 0  overruns 0  frame 0\r\n",
      "        TX packets 0  bytes 0 (0.0 B)\r\n",
      "        TX errors 0  dropped 0 overruns 0  carrier 0  collisions 0\r\n",
      "        device interrupt 128  \r\n",
      "\r\n",
      "em4: flags=4163<UP,BROADCAST,RUNNING,MULTICAST>  mtu 1500\r\n",
      "        inet 192.168.100.205  netmask 255.255.255.0  broadcast 192.168.100.255\r\n",
      "        inet6 fe80::4319:b02a:47f0:6b33  prefixlen 64  scopeid 0x20<link>\r\n",
      "        ether 34:48:ed:f9:c5:eb  txqueuelen 1000  (Ethernet)\r\n",
      "        RX packets 3266106426  bytes 4603821894344 (4.1 TiB)\r\n",
      "        RX errors 28  dropped 572  overruns 0  frame 28\r\n",
      "        TX packets 1320857669  bytes 953616502646 (888.1 GiB)\r\n",
      "        TX errors 0  dropped 0 overruns 0  carrier 0  collisions 0\r\n",
      "        device interrupt 129  \r\n",
      "\r\n",
      "lo: flags=73<UP,LOOPBACK,RUNNING>  mtu 65536\r\n",
      "        inet 127.0.0.1  netmask 255.0.0.0\r\n",
      "        inet6 ::1  prefixlen 128  scopeid 0x10<host>\r\n",
      "        loop  txqueuelen 1000  (Local Loopback)\r\n",
      "        RX packets 101978126  bytes 32598565335 (30.3 GiB)\r\n",
      "        RX errors 0  dropped 0  overruns 0  frame 0\r\n",
      "        TX packets 101978126  bytes 32598565335 (30.3 GiB)\r\n",
      "        TX errors 0  dropped 0 overruns 0  carrier 0  collisions 0\r\n",
      "\r\n"
     ]
    }
   ],
   "source": [
    "!ifconfig"
   ]
  },
  {
   "cell_type": "markdown",
   "metadata": {},
   "source": [
    "### 4 魔术命令 `%run %paste %timeit %pdb`"
   ]
  }
 ],
 "metadata": {
  "kernelspec": {
   "display_name": "env4tiho_py36",
   "language": "python",
   "name": "env4tiho_py36"
  },
  "language_info": {
   "codemirror_mode": {
    "name": "ipython",
    "version": 3
   },
   "file_extension": ".py",
   "mimetype": "text/x-python",
   "name": "python",
   "nbconvert_exporter": "python",
   "pygments_lexer": "ipython3",
   "version": "3.6.5"
  }
 },
 "nbformat": 4,
 "nbformat_minor": 4
}
