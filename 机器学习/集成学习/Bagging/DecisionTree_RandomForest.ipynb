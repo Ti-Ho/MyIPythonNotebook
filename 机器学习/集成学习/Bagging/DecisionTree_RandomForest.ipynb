{
 "cells": [
  {
   "cell_type": "markdown",
   "id": "c35e6459",
   "metadata": {},
   "source": [
    "## 随机森林的基本概念\n",
    "随机森林 = bagging + 决策树\n",
    "\n",
    "同时训练多个决策树，预测时综合考虑多个结果进行预测，例如取多个节点的均值(回归)，或者是众数(分类)。\n",
    "\n",
    "优势：\n",
    "1. 消除了决策树容易过拟合的缺点\n",
    "2. 减小了预测的方差，预测值不会因训练数据的小变化而剧烈变化\n",
    "\n",
    "---\n",
    "\n",
    "随机森林的随机性体现为两点：\n",
    "1. 从原来的训练数据集随机（带放回bootstrap）取一个子集作为森林中某一个决策树的训练数据集\n",
    "2. 每一次选择分叉的特征时，限定为在随机选择的特征的自己中寻找一个特征。\n",
    "\n",
    "\n",
    "---\n",
    "通过案例来看下随机森林的应用：\n",
    "\n",
    "现有某公司的员工离职数据，我们通过构建决策树和随机森林来预测某一员工是否会离职。并找出影响员工离职的重要特征。"
   ]
  },
  {
   "cell_type": "code",
   "execution_count": null,
   "id": "96a883c6",
   "metadata": {},
   "outputs": [],
   "source": []
  }
 ],
 "metadata": {
  "kernelspec": {
   "display_name": "Python [conda env:env4SG]",
   "language": "python",
   "name": "conda-env-env4SG-py"
  },
  "language_info": {
   "codemirror_mode": {
    "name": "ipython",
    "version": 3
   },
   "file_extension": ".py",
   "mimetype": "text/x-python",
   "name": "python",
   "nbconvert_exporter": "python",
   "pygments_lexer": "ipython3",
   "version": "3.7.11"
  },
  "toc": {
   "base_numbering": 1,
   "nav_menu": {},
   "number_sections": true,
   "sideBar": true,
   "skip_h1_title": false,
   "title_cell": "Table of Contents",
   "title_sidebar": "Contents",
   "toc_cell": false,
   "toc_position": {},
   "toc_section_display": true,
   "toc_window_display": true
  }
 },
 "nbformat": 4,
 "nbformat_minor": 5
}
