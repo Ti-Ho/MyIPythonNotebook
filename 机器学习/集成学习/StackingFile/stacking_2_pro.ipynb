{
 "cells": [
  {
   "cell_type": "markdown",
   "id": "7eeda3b2",
   "metadata": {},
   "source": [
    "## stacking演示-波士顿房价为例\n",
    "* 数据集：sklean自带的Boston房价数据集\n",
    "* 问题：是一个回归问题"
   ]
  },
  {
   "cell_type": "code",
   "execution_count": 1,
   "id": "e8e38329",
   "metadata": {},
   "outputs": [],
   "source": [
    "import pandas as pd\n",
    "from sklearn.model_selection import train_test_split\n",
    "from sklearn.model_selection import GridSearchCV\n",
    "from sklearn.ensemble import RandomForestRegressor\n",
    "from sklearn.ensemble import RandomForestClassifier\n",
    "import numpy as np\n",
    "from sklearn.preprocessing import StandardScaler\n",
    "from sklearn.preprocessing import MinMaxScaler\n",
    "from sklearn.linear_model import LinearRegression\n",
    "from sklearn.linear_model import RidgeCV\n",
    "from sklearn.linear_model import BayesianRidge\n",
    "from sklearn.ensemble import GradientBoostingRegressor,RandomForestRegressor,AdaBoostRegressor,ExtraTreesRegressor\n",
    "from xgboost import XGBRegressor\n",
    "from lightgbm import LGBMRegressor\n",
    "from sklearn.svm import SVR\n",
    "from sklearn.datasets import load_boston\n",
    "from sklearn.model_selection import KFold"
   ]
  },
  {
   "cell_type": "code",
   "execution_count": 2,
   "id": "8994c100",
   "metadata": {},
   "outputs": [
    {
     "name": "stderr",
     "output_type": "stream",
     "text": [
      "E:\\Anaconda\\envs\\env4SG\\lib\\site-packages\\sklearn\\model_selection\\_split.py:297: FutureWarning: Setting a random_state has no effect since shuffle is False. This will raise an error in 0.24. You should leave random_state to its default (None), or set shuffle=True.\n",
      "  FutureWarning\n"
     ]
    },
    {
     "data": {
      "text/plain": [
       "354"
      ]
     },
     "execution_count": 2,
     "metadata": {},
     "output_type": "execute_result"
    }
   ],
   "source": [
    "x=load_boston().data\n",
    "y=load_boston().target\n",
    "x=MinMaxScaler().fit_transform(x)\n",
    "xtrain,xtest,ytrain,ytest=train_test_split(x,y,test_size=0.3,random_state=100)\n",
    "kf=KFold(n_splits=5,random_state=100)\n",
    "n_train=xtrain.shape[0]         #354个训练样本\n",
    "n_test=xtest.shape[0]           #152个测试样本\n",
    "n_train"
   ]
  },
  {
   "cell_type": "markdown",
   "id": "b9ebf812",
   "metadata": {},
   "source": [
    "**第一层基模型**"
   ]
  },
  {
   "cell_type": "code",
   "execution_count": 3,
   "id": "3c4ec7b5",
   "metadata": {},
   "outputs": [],
   "source": [
    "models=[RandomForestRegressor(n_estimators=300,random_state=100),\n",
    "        GradientBoostingRegressor(n_estimators=300,random_state=100),\n",
    "        LGBMRegressor(n_estimators=300,n_jobs=-1,random_state=100),\n",
    "        RidgeCV(alphas=[0.0001,0.001,0.01,0.1,0.2,0.5,1,2,3,4,5,10,20,30,50]),\n",
    "        LinearRegression(),SVR(kernel=\"rbf\"),SVR(kernel=\"linear\"),\n",
    "        RandomForestRegressor(n_estimators=300,random_state=100),\n",
    "        GradientBoostingRegressor(n_estimators=300,random_state=100),\n",
    "        XGBRegressor(n_estimators=300),\n",
    "        ExtraTreesRegressor(n_estimators=300,n_jobs=-1,random_state=100)]\n",
    "\n",
    "def get_oof(model,x_train,y_train,x_test):\n",
    "    oof_train=np.zeros((n_train,))     #构造一个1*354的一维0矩阵\n",
    "    oof_test=np.zeros((n_test,))       #构造一个1*152的一维0矩阵\n",
    "    oof_test_skf=np.zeros((5,n_test))  #5*152\n",
    "    for i,(train_index,test_index) in enumerate(kf.split(x_train)):\n",
    "        kf_x_train=x_train[train_index]              #每一折训练283个样本的X\n",
    "        kf_y_train=y_train[train_index]              #每一折训练283个样本的Y\n",
    "        kf_x_test=x_train[test_index]                #每一折的71测试样本的X\n",
    "        model=model.fit(kf_x_train,kf_y_train)\n",
    "        oof_train[test_index]=model.predict(kf_x_test)        #每次产生71个预测值，最终5折后成为堆叠成为1*354个训练样本的测试值\n",
    "        oof_test_skf[i,:]=model.predict(x_test)               #每次生成1*152的测试集预测值，填oof_test_skf[i，：]，五次以后填满形成5*152的预测值矩阵\n",
    "    oof_test[:]=oof_test_skf.mean(axis=0)            #把测试集的五次预测结果，求平均，形成一次预测结果\n",
    "    return oof_train,oof_test     #第一个返回值为第二层模型训练集的特征，1*354；第二个返回值为第一层模型对测试集数据的预测1*152，要作为第二层模型的训练集Xtest\n",
    "number_models=len(models)\n",
    "xtrain_new=np.zeros((n_train,number_models))\n",
    "xtest_new=np.zeros((n_test,number_models))\n",
    "for i,regressor in enumerate(models):\n",
    "    xtrain_new[:,i],xtest_new[:,i]=get_oof(regressor,xtrain,ytrain,xtest)"
   ]
  },
  {
   "cell_type": "markdown",
   "id": "de1bb86b",
   "metadata": {},
   "source": [
    "**第二层模型**"
   ]
  },
  {
   "cell_type": "code",
   "execution_count": 4,
   "id": "2eb3dbb9",
   "metadata": {},
   "outputs": [
    {
     "data": {
      "text/plain": [
       "0.8560362640041896"
      ]
     },
     "execution_count": 4,
     "metadata": {},
     "output_type": "execute_result"
    }
   ],
   "source": [
    "reg=LinearRegression()\n",
    "reg=reg.fit(xtrain_new,ytrain)\n",
    "score=reg.score(xtest_new,ytest)\n",
    "score"
   ]
  }
 ],
 "metadata": {
  "kernelspec": {
   "display_name": "Python [conda env:env4SG]",
   "language": "python",
   "name": "conda-env-env4SG-py"
  },
  "language_info": {
   "codemirror_mode": {
    "name": "ipython",
    "version": 3
   },
   "file_extension": ".py",
   "mimetype": "text/x-python",
   "name": "python",
   "nbconvert_exporter": "python",
   "pygments_lexer": "ipython3",
   "version": "3.7.11"
  }
 },
 "nbformat": 4,
 "nbformat_minor": 5
}
