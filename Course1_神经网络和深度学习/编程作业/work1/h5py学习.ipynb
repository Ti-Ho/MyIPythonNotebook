{
 "cells": [
  {
   "cell_type": "markdown",
   "metadata": {},
   "source": [
    "### h5py简单介绍\n",
    "参考自: [python库——h5py入门讲解](https://blog.csdn.net/ban_xicheng/article/details/80430767)\n",
    "\n",
    "h5py文件是存放两类对象的容器，数据集(dataset)和组(group)，dataset类似数组类的数据集合，和numpy的数组差不多。group是像文件夹一样的容器，它好比python中的字典，有键(key)和值(value)。group中可以存放dataset或者其他的group。”键”就是组成员的名称，”值”就是组成员对象本身(组或者数据集)，下面来看下如何创建组和数据集。"
   ]
  },
  {
   "cell_type": "markdown",
   "metadata": {},
   "source": [
    "#### 1. 创建一个h5py文件"
   ]
  },
  {
   "cell_type": "code",
   "execution_count": 1,
   "metadata": {},
   "outputs": [],
   "source": [
    "import h5py\n",
    "# 要是读取文件的话，就把w换成r\n",
    "f = h5py.File(\"myh5py.hdf5\",\"w\")"
   ]
  },
  {
   "cell_type": "markdown",
   "metadata": {},
   "source": [
    "#### 2. 创建dataset数据集"
   ]
  },
  {
   "cell_type": "code",
   "execution_count": 2,
   "metadata": {},
   "outputs": [
    {
     "name": "stdout",
     "output_type": "stream",
     "text": [
      "dset1\n",
      "/dset1\n",
      "(20,)\n",
      "[0 0 0 0 0 0 0 0 0 0 0 0 0 0 0 0 0 0 0 0]\n"
     ]
    }
   ],
   "source": [
    "# dset1是数据集的name，(20,)代表数据集的shape，i代表的是数据集的元素类型\n",
    "d1 = f.create_dataset(\"dset1\",(20,),'i')\n",
    "for key in f.keys():\n",
    "    print(key)\n",
    "    print(f[key].name)\n",
    "    print(f[key].shape)\n",
    "    print(f[key][:])"
   ]
  },
  {
   "cell_type": "markdown",
   "metadata": {},
   "source": [
    "**赋值**"
   ]
  },
  {
   "cell_type": "code",
   "execution_count": 3,
   "metadata": {},
   "outputs": [
    {
     "name": "stdout",
     "output_type": "stream",
     "text": [
      "/dset1\n",
      "[ 0  1  2  3  4  5  6  7  8  9 10 11 12 13 14 15 16 17 18 19]\n",
      "/dset2\n",
      "[ 0  1  2  3  4  5  6  7  8  9 10 11 12 13 14]\n"
     ]
    }
   ],
   "source": [
    "import h5py\n",
    "import numpy as np\n",
    "\n",
    "# f=h5py.File(\"myh5py.hdf5\", \"w\")\n",
    "# d1=f.create_dataset(\"dset1\", (20,), 'i')\n",
    "# 赋值\n",
    "d1[...]=np.arange(20)\n",
    "#或者可以直接按照下面的方式创建数据集并赋值\n",
    "f['dset2']=np.arange(15)\n",
    "\n",
    "for key in f.keys():\n",
    "    print(f[key].name)\n",
    "    print(f[key][:])"
   ]
  },
  {
   "cell_type": "markdown",
   "metadata": {},
   "source": [
    "如果有现成的numpy数组，那么可以在创建数据集的时候就赋值，这个时候就不必指定数据的类型和形状了，只需要把数组名传给参数data。"
   ]
  },
  {
   "cell_type": "code",
   "execution_count": 4,
   "metadata": {},
   "outputs": [
    {
     "name": "stdout",
     "output_type": "stream",
     "text": [
      "/dset1\n",
      "[ 0  1  2  3  4  5  6  7  8  9 10 11 12 13 14 15 16 17 18 19]\n",
      "/dset2\n",
      "[ 0  1  2  3  4  5  6  7  8  9 10 11 12 13 14]\n",
      "/dset3\n",
      "[0 1 2 3 4 5 6]\n"
     ]
    }
   ],
   "source": [
    "a = np.arange(7)\n",
    "d2 = f.create_dataset(\"dset3\",data=a)\n",
    "for key in f.keys():\n",
    "    print(f[key].name)\n",
    "    print(f[key][:])"
   ]
  },
  {
   "cell_type": "markdown",
   "metadata": {},
   "source": [
    "---\n",
    "**三种创建方式混合_代码如下**"
   ]
  },
  {
   "cell_type": "code",
   "execution_count": 5,
   "metadata": {},
   "outputs": [
    {
     "name": "stdout",
     "output_type": "stream",
     "text": [
      "/dset1\n",
      "[0 1 2 3 4]\n",
      "/dset2\n",
      "[[ 0  1  2  3]\n",
      " [ 4  5  6  7]\n",
      " [ 8  9 10 11]]\n",
      "/dset3\n",
      "[ 0  1  2  3  4  5  6  7  8  9 10 11 12 13 14]\n"
     ]
    }
   ],
   "source": [
    "import h5py\n",
    "import numpy as np\n",
    "f = h5py.File(\"myh5py2.hdf5\",\"w\")\n",
    "# 分别用三种创建数据集方式创建dset1,dset2,dset3这三个数据集\n",
    "a = np.arange(5)\n",
    "d1 = f.create_dataset(\"dset1\",data=a)\n",
    "\n",
    "d2 = f.create_dataset(\"dset2\",(3,4),'i')\n",
    "d2[...] = np.arange(12).reshape((3,4))\n",
    "\n",
    "f[\"dset3\"] = np.arange(15)\n",
    "\n",
    "for key in f.keys():\n",
    "    print(f[key].name)\n",
    "    print(f[key][:])"
   ]
  },
  {
   "cell_type": "markdown",
   "metadata": {},
   "source": [
    "#### 3. 创建group组"
   ]
  },
  {
   "cell_type": "code",
   "execution_count": 6,
   "metadata": {},
   "outputs": [
    {
     "name": "stdout",
     "output_type": "stream",
     "text": [
      "/bar/dset1\n",
      "[0 1 2 3 4 5 6 7 8 9]\n",
      "/bar/dset2\n",
      "[[ 0  1  2  3]\n",
      " [ 4  5  6  7]\n",
      " [ 8  9 10 11]]\n"
     ]
    }
   ],
   "source": [
    "import h5py\n",
    "import numpy as np\n",
    "f=h5py.File(\"myh5py.hdf5\",\"a\")\n",
    " \n",
    "#创建一个名字为bar的组\n",
    "g1=f.create_group(\"bar\")\n",
    " \n",
    "#在bar这个组里面分别创建name为dset1,dset2的数据集并赋值。\n",
    "g1[\"dset1\"]=np.arange(10)\n",
    "g1[\"dset2\"]=np.arange(12).reshape((3,4))\n",
    " \n",
    "for key in g1.keys():\n",
    "    print(g1[key].name)\n",
    "    print(g1[key][:])"
   ]
  },
  {
   "cell_type": "code",
   "execution_count": 1,
   "metadata": {},
   "outputs": [
    {
     "name": "stdout",
     "output_type": "stream",
     "text": [
      ".............\n",
      "/bar1\n",
      "/bar2\n",
      "/dset\n",
      ".............\n",
      "/bar1/car1\n",
      "/bar1/dset1\n",
      ".............\n",
      "/bar2/car2\n",
      "/bar2/dset2\n",
      ".............\n",
      "<KeysViewHDF5 []>\n",
      "<KeysViewHDF5 []>\n"
     ]
    }
   ],
   "source": [
    "# 示例2\n",
    "import h5py\n",
    "import numpy as np\n",
    "f = h5py.File(\"myh5py3.hdf5\",\"w\")\n",
    "\n",
    "# 创建组bar1,组bar2，数据集dset\n",
    "g1 = f.create_group(\"bar1\")\n",
    "g2 = f.create_group(\"bar2\")\n",
    "d = f.create_dataset(\"dset\",data=np.arange(10))\n",
    "\n",
    "# 在bar1组里面创建一个组car1和一个数据集dset1\n",
    "c1 = g1.create_group(\"car1\")\n",
    "d1 = g1.create_dataset(\"dset1\",data=np.arange(10))\n",
    "\n",
    "# 在bar2组里面创建一个组car2和一个数据集dset2\n",
    "c2 = g2.create_group(\"car2\")\n",
    "d2 = g2.create_dataset(\"dset2\",data=np.arange(10))\n",
    "\n",
    "# 根目录下的组和数据集\n",
    "print(\".............\")\n",
    "for key in f.keys():\n",
    "    print(f[key].name)\n",
    "\n",
    "# bar1这个组下面的组和数据集\n",
    "print(\".............\")\n",
    "for key in g1.keys():\n",
    "    print(g1[key].name)\n",
    " \n",
    " \n",
    "# bar2这个组下面的组和数据集\n",
    "print(\".............\")\n",
    "for key in g2.keys():\n",
    "    print(g2[key].name)\n",
    "    \n",
    "# car1组和car2组\n",
    "print(\".............\")\n",
    "print(c1.keys())\n",
    "print(c2.keys())"
   ]
  }
 ],
 "metadata": {
  "kernelspec": {
   "display_name": "Python 3",
   "language": "python",
   "name": "python3"
  },
  "language_info": {
   "codemirror_mode": {
    "name": "ipython",
    "version": 3
   },
   "file_extension": ".py",
   "mimetype": "text/x-python",
   "name": "python",
   "nbconvert_exporter": "python",
   "pygments_lexer": "ipython3",
   "version": "3.7.6"
  }
 },
 "nbformat": 4,
 "nbformat_minor": 4
}
